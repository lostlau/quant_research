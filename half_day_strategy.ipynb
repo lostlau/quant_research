{
 "cells": [
  {
   "cell_type": "code",
   "execution_count": 1,
   "metadata": {},
   "outputs": [],
   "source": [
    "from scipy.stats import pearsonr, entropy\n",
    "import numpy as np\n",
    "import pandas as pd\n",
    "import akshare as ak\n",
    "import baostock as bs\n",
    "from utils import get_index_components, get_csindex_components, get_history_k\n",
    "import warnings\n",
    "warnings.filterwarnings('ignore')\n",
    "\n",
    "pd.set_option('display.max_rows',100)"
   ]
  },
  {
   "cell_type": "code",
   "execution_count": 20,
   "metadata": {},
   "outputs": [],
   "source": [
    "kc50_list = get_csindex_components(\"000688\")"
   ]
  },
  {
   "cell_type": "code",
   "execution_count": 108,
   "metadata": {},
   "outputs": [
    {
     "name": "stdout",
     "output_type": "stream",
     "text": [
      "login success!\n",
      "logout success!\n"
     ]
    },
    {
     "data": {
      "text/plain": [
       "<baostock.data.resultset.ResultData at 0x2933627f0>"
      ]
     },
     "execution_count": 108,
     "metadata": {},
     "output_type": "execute_result"
    }
   ],
   "source": [
    "bs.login()\n",
    "output_list = []\n",
    "for stk in kc50_list:\n",
    "    rs = bs.query_history_k_data_plus(stk,\n",
    "        \"date,time,code,open,high,low,close,volume,amount,adjustflag\",\n",
    "        start_date='2024-12-01', end_date='2024-12-30',\n",
    "        frequency=\"60\", adjustflag=\"1\")\n",
    "\n",
    "    data_list = []\n",
    "    while (rs.error_code == '0') & rs.next():\n",
    "        data_list.append(rs.get_row_data())\n",
    "    output_list.append(pd.DataFrame(data_list, columns=rs.fields))\n",
    "df_output=pd.concat(output_list)\n",
    "    \n",
    "bs.logout()"
   ]
  },
  {
   "cell_type": "code",
   "execution_count": 107,
   "metadata": {},
   "outputs": [
    {
     "data": {
      "text/plain": [
       "0.0378"
      ]
     },
     "execution_count": 107,
     "metadata": {},
     "output_type": "execute_result"
    }
   ],
   "source": [
    "2"
   ]
  },
  {
   "cell_type": "code",
   "execution_count": 106,
   "metadata": {},
   "outputs": [
    {
     "data": {
      "text/plain": [
       "1.1455615772832217"
      ]
     },
     "execution_count": 106,
     "metadata": {},
     "output_type": "execute_result"
    }
   ],
   "source": [
    "df_output['datetime'] = pd.to_datetime(df_output['time'].str[:14], format='%Y%m%d%H%M%S')\n",
    "df_output['hms'] = df_output['datetime'].dt.time.astype(str)\n",
    "\n",
    "df_manpl = df_output.groupby('datetime').apply(lambda df: pd.Series({\"close\":df['close'].astype(float).mean(), \"hms\":df['hms'].values[0]}))\n",
    "df_manpl = df_manpl[df_manpl['hms'].isin([\"11:30:00\",\"15:00:00\"])]\n",
    "\n",
    "df_manpl['return_factor'] = (df_manpl['close']/df_manpl['close'].shift(1)).fillna(1)\n",
    "df_manpl[df_manpl['hms']=='11:30:00']['return_factor'].product()"
   ]
  }
 ],
 "metadata": {
  "kernelspec": {
   "display_name": "quant_env",
   "language": "python",
   "name": "python3"
  },
  "language_info": {
   "codemirror_mode": {
    "name": "ipython",
    "version": 3
   },
   "file_extension": ".py",
   "mimetype": "text/x-python",
   "name": "python",
   "nbconvert_exporter": "python",
   "pygments_lexer": "ipython3",
   "version": "3.8.16"
  }
 },
 "nbformat": 4,
 "nbformat_minor": 2
}
